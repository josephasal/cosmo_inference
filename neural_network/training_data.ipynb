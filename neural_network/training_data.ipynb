{
  "nbformat": 4,
  "nbformat_minor": 0,
  "metadata": {
    "colab": {
      "provenance": [],
      "authorship_tag": "ABX9TyOJxQ4/nkP3ooy47GqX6g9o",
      "include_colab_link": true
    },
    "kernelspec": {
      "name": "python3",
      "display_name": "Python 3"
    },
    "language_info": {
      "name": "python"
    }
  },
  "cells": [
    {
      "cell_type": "markdown",
      "metadata": {
        "id": "view-in-github",
        "colab_type": "text"
      },
      "source": [
        "<a href=\"https://colab.research.google.com/github/josephasal/cosmo_inference/blob/main/neural_network/training_data.ipynb\" target=\"_parent\"><img src=\"https://colab.research.google.com/assets/colab-badge.svg\" alt=\"Open In Colab\"/></a>"
      ]
    },
    {
      "cell_type": "markdown",
      "source": [
        "#Forward model"
      ],
      "metadata": {
        "id": "wv2tINcxH5U3"
      }
    },
    {
      "cell_type": "markdown",
      "source": [
        "Used to generate training data"
      ],
      "metadata": {
        "id": "GEJodQXIH_65"
      }
    },
    {
      "cell_type": "code",
      "source": [
        "import numpy as np"
      ],
      "metadata": {
        "id": "0Po7n2crID1Q"
      },
      "execution_count": 2,
      "outputs": []
    },
    {
      "cell_type": "code",
      "execution_count": 1,
      "metadata": {
        "id": "xx7TeyTZGNu3"
      },
      "outputs": [],
      "source": [
        "#Contains the core code for the MCMC algorithm implementated\n",
        "\n",
        "\n",
        "#Dimensionless distance modulus function implementation\n",
        "\n",
        "#Distance modulus function\n",
        "def calculate_distance_modulus(z, omega_m,h):\n",
        "  \"\"\"\n",
        "  Calculates dimensionless theoretical distance modulus using\n",
        "\n",
        "  inputs:\n",
        "   - z: Redshift\n",
        "   - omega_m: density matter parameter\n",
        "   - h: dimensionless hubble constance H0 = 100h km/s/Mpc\n",
        "\n",
        "   outputs: theoretical distance modulus\n",
        "  \"\"\"\n",
        "  c = 299792.458   # speed of light in km/s\n",
        "  H0 = 100 * h     # Hubble constant in km/s/Mpc\n",
        "\n",
        "  #Luminosity distance based on Penn 1999 analytic solution\n",
        "\n",
        "  #Fitting function\n",
        "  def eta(a,omega_m):\n",
        "    \"\"\"\n",
        "    Fits eta\n",
        "    inputs:\n",
        "      a - a number\n",
        "      omega_m - matter density\n",
        "\n",
        "    outputs: eta as a function of a and omega_m\n",
        "    \"\"\"\n",
        "    s = ((1-omega_m)/omega_m)**(1/3)\n",
        "    eta = 2*np.sqrt(s**3 +1) * ((1/(a**4)) - 0.1540*(s/(a**3)) + 0.4304 *((s**2)/(a**2)) + 0.19097*((s**3)/a) + 0.066941*(s**4))**(-1/8)\n",
        "\n",
        "    return eta\n",
        "\n",
        "  #Calculate eta for 1 and 1/z+1\n",
        "  a = 1/(z+1)\n",
        "  eta_1 = eta(1,omega_m)\n",
        "  eta_z = np.array([eta(ai, omega_m) for ai in a])\n",
        "\n",
        "  #Dimensionless luminosity distance calculation\n",
        "  d_L_star = (c/H0) * (1+z) * (eta_1 - eta_z)\n",
        "\n",
        "\n",
        "\n",
        "  #Now to calculate distance modulus mu\n",
        "  theoretical_mu = 25 - 5*np.log10(h) + 5*np.log10(d_L_star)\n",
        "  return theoretical_mu"
      ]
    }
  ]
}