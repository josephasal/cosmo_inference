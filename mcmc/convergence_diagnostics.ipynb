{
  "nbformat": 4,
  "nbformat_minor": 0,
  "metadata": {
    "colab": {
      "provenance": [],
      "authorship_tag": "ABX9TyMSNO4usSvJY6oMmZjNQXBm",
      "include_colab_link": true
    },
    "kernelspec": {
      "name": "python3",
      "display_name": "Python 3"
    },
    "language_info": {
      "name": "python"
    }
  },
  "cells": [
    {
      "cell_type": "markdown",
      "metadata": {
        "id": "view-in-github",
        "colab_type": "text"
      },
      "source": [
        "<a href=\"https://colab.research.google.com/github/josephasal/cosmo_inference/blob/diagnostics-%2B-adaptive-sampling/mcmc/convergence_diagnostics.ipynb\" target=\"_parent\"><img src=\"https://colab.research.google.com/assets/colab-badge.svg\" alt=\"Open In Colab\"/></a>"
      ]
    },
    {
      "cell_type": "code",
      "execution_count": 2,
      "metadata": {
        "id": "TC55v4bene2-"
      },
      "outputs": [],
      "source": [
        "#Gelman-Rubin diagnostic\n",
        "\n",
        "def gelman_rubin(chain):\n",
        "  \"\"\"\n",
        "  Function that uses the Gelman-Rubin diagnostic test for convergence, compares variance between multiple chains to the variance within each chain\n",
        "\n",
        "  input: 2d array of the chain for a particular parameter (rows = value of parameter at iteration, column = walker )\n",
        "\n",
        "  output: Estimate of R\n",
        "\n",
        "  \"\"\"\n",
        "  #Mean of each chain\n",
        "  chain_means = np.mean(chains, axis=0) #mean of parameters at each point\n",
        "\n",
        "  #Overall mean of all the chains across the whole thing\n",
        "  overall_mean = np.mean(chain_means)\n",
        "\n",
        "  #Between chain variance\n",
        "  n, m = chains.shape\n",
        "  B = (n/(m-1)) * np.sum(chain_means - overall_mean)**2\n",
        "\n",
        "  #Average chain variance\n",
        "  W = 1/(m) * np.sum(np.var(chains, axis = 0, ddof = 1))\n",
        "\n",
        "  #Calculate V\n",
        "  V = ((n-1)/n) * W + ((m+1)/(m*n)) * B\n",
        "\n",
        "  #Calculate R\n",
        "  R = np.sqrt(V/W)\n",
        "\n",
        "  return R"
      ]
    },
    {
      "cell_type": "code",
      "source": [
        "#Want to compare my MCMC code to emcee so going to use ESS to do so as we cannot use Gelman Rubin diagnostic on emcee because the chains are not independent\n",
        "\n",
        "#Effective sample size\n",
        "\n",
        "def autocorrelation(x, lag):\n",
        "\n",
        "  \"\"\"\n",
        "  Calulcated the autocorrelation of array x at a given lag k\n",
        "\n",
        "  \"\"\"\n",
        "  n = len(x)\n",
        "  numerator = np.sum((x[:n-lag] - np.mean(x) * (x[lag:] - np.mean(x))))\n",
        "  denominator = np.sum((x - np.mean(x))**2)\n",
        "  return numerator/denominator\n",
        "\n",
        "def eff_sample_size(chain):\n",
        "  N = len(x)\n",
        "\n",
        "  autocorr_sum = 0\n",
        "\n",
        "  for lag in range(1, )\n"
      ],
      "metadata": {
        "id": "a_ZmvprExwQy"
      },
      "execution_count": 3,
      "outputs": []
    }
  ]
}